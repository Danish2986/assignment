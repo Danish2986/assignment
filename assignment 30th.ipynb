{
 "cells": [
  {
   "cell_type": "code",
   "execution_count": 1,
   "id": "a0e034a9-1f1b-4761-b41e-1cb068471b7e",
   "metadata": {},
   "outputs": [],
   "source": [
    "# 1)write a program to accept percentage from the user and display the grade according to the following"
   ]
  },
  {
   "cell_type": "code",
   "execution_count": 4,
   "id": "c05d6a54-a9af-4cfb-97c9-ed58ba4c64a8",
   "metadata": {},
   "outputs": [
    {
     "name": "stdin",
     "output_type": "stream",
     "text": [
      "enter the marks 40\n"
     ]
    },
    {
     "name": "stdout",
     "output_type": "stream",
     "text": [
      "the grade is d\n"
     ]
    }
   ],
   "source": [
    "marks = int(input(\"enter the marks\"))\n",
    "if marks > 90 :\n",
    "    print(\"the grade is a\")\n",
    "elif marks > 80 and marks <= 90 :\n",
    "    print(\"the grade is b\")\n",
    "elif marks >= 60 and marks <= 80 :\n",
    "    print(\"the grade is c\")\n",
    "elif marks <60 :\n",
    "    print(\"the grade is d\")"
   ]
  },
  {
   "cell_type": "code",
   "execution_count": 5,
   "id": "c52b724c-4f93-4af4-87cc-bf9886ccff68",
   "metadata": {},
   "outputs": [],
   "source": [
    "#2) write a program to accept the cost price of a bike and display the road tax to be paid according to the following criteria"
   ]
  },
  {
   "cell_type": "code",
   "execution_count": 12,
   "id": "4490658b-b4fc-4068-bd26-fdc7d4536047",
   "metadata": {},
   "outputs": [
    {
     "name": "stdin",
     "output_type": "stream",
     "text": [
      "enter tax 80000\n"
     ]
    },
    {
     "name": "stdout",
     "output_type": "stream",
     "text": [
      "the tax is 10%\n"
     ]
    }
   ],
   "source": [
    "cp = int(input(\"enter tax\"))\n",
    "if cp > 100000 :\n",
    "    print(\"the tax is 15%\")\n",
    "elif cp > 50000 and cp <= 100000 :\n",
    "    print(\"the tax is 10%\")\n",
    "elif cp <= 50000 :\n",
    "    print(\"the tax is 5%\")\n",
    "else:\n",
    "    print(\"the tax not to paid\")\n",
    "    "
   ]
  },
  {
   "cell_type": "code",
   "execution_count": null,
   "id": "fa7f1bd2-c1cd-4933-9894-ea549dbfb438",
   "metadata": {},
   "outputs": [],
   "source": [
    "#3) accept any city from the user and display monuments of that city."
   ]
  },
  {
   "cell_type": "code",
   "execution_count": 14,
   "id": "1b890731-a697-47a6-a4b6-08909f583806",
   "metadata": {},
   "outputs": [
    {
     "name": "stdin",
     "output_type": "stream",
     "text": [
      "enter the city delhi\n"
     ]
    },
    {
     "name": "stdout",
     "output_type": "stream",
     "text": [
      "is the monument of red fort\n"
     ]
    }
   ],
   "source": [
    "city = input(\"enter the city\")\n",
    "if city == 'delhi' :\n",
    "    print(\"is the monument of red fort\")\n",
    "elif city == 'agra' :\n",
    "    print(\"is the monument of taj mahal\")\n",
    "elif city == 'jaipur' :\n",
    "    print(\"is the monument of jal mahal\")\n",
    "else:\n",
    "    print(\"the city is incorrect\")"
   ]
  },
  {
   "cell_type": "code",
   "execution_count": 15,
   "id": "3d977542-fee0-4d8e-a49c-1f2894730c56",
   "metadata": {},
   "outputs": [],
   "source": [
    "#4)check how many times a given number can be divided by 3 before it is less than or equal to 10."
   ]
  },
  {
   "cell_type": "code",
   "execution_count": 1,
   "id": "58d09bf3-938a-4023-97d6-e28eb9b9a551",
   "metadata": {},
   "outputs": [
    {
     "data": {
      "text/plain": [
       "3.703703703703704"
      ]
     },
     "execution_count": 1,
     "metadata": {},
     "output_type": "execute_result"
    }
   ],
   "source": [
    "x=100\n",
    "count=0\n",
    "\n",
    "while x>=10:\n",
    "    x=x/3\n",
    "    count=count+1\n",
    "x    "
   ]
  },
  {
   "cell_type": "code",
   "execution_count": 2,
   "id": "e1b404a9-5eb7-4ec2-bc0f-419bb805beeb",
   "metadata": {},
   "outputs": [],
   "source": [
    "#5) why and when to use while loop in python give a detailed description with example."
   ]
  },
  {
   "cell_type": "code",
   "execution_count": 3,
   "id": "c87c6f46-e2f1-4c6c-8cc8-ef7849b02495",
   "metadata": {},
   "outputs": [
    {
     "name": "stdout",
     "output_type": "stream",
     "text": [
      "1\n",
      "2\n",
      "3\n",
      "4\n",
      "5\n",
      "6\n",
      "7\n",
      "8\n",
      "9\n",
      "10\n"
     ]
    }
   ],
   "source": [
    " #ans) Python while loop is used to run a block code until a certain condition is met. Here, A while loop evaluates the condition. If the condition evaluates to True , the code inside the while loop is executed. a=1\n",
    "a=1\n",
    "\n",
    "while a <= 10 :\n",
    "    print(a)\n",
    "    a = a+1 "
   ]
  },
  {
   "cell_type": "code",
   "execution_count": 4,
   "id": "094376ae-b268-4ddf-a140-dbb0670f1d90",
   "metadata": {},
   "outputs": [],
   "source": [
    "#7) reverse a while loop to display number from 10 to 1."
   ]
  },
  {
   "cell_type": "code",
   "execution_count": 5,
   "id": "edbaa1b9-a55c-4865-93b7-259229b9bdbe",
   "metadata": {},
   "outputs": [],
   "source": [
    "x=10\n",
    "\n",
    "while x > 10:\n",
    "    print(x)\n",
    "    x=x-1"
   ]
  },
  {
   "cell_type": "code",
   "execution_count": null,
   "id": "3e236af6-2c44-4e1a-8a1e-fa2f353db174",
   "metadata": {},
   "outputs": [],
   "source": []
  }
 ],
 "metadata": {
  "kernelspec": {
   "display_name": "Python 3 (ipykernel)",
   "language": "python",
   "name": "python3"
  },
  "language_info": {
   "codemirror_mode": {
    "name": "ipython",
    "version": 3
   },
   "file_extension": ".py",
   "mimetype": "text/x-python",
   "name": "python",
   "nbconvert_exporter": "python",
   "pygments_lexer": "ipython3",
   "version": "3.10.8"
  }
 },
 "nbformat": 4,
 "nbformat_minor": 5
}
