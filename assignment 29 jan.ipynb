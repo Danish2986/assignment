{
 "cells": [
  {
   "cell_type": "code",
   "execution_count": null,
   "id": "9a29581f-61ff-4adf-9863-91100d461bdb",
   "metadata": {},
   "outputs": [],
   "source": [
    "1) who developed python programming language ?\n",
    "ans) Guido van Rossum\n",
    "2) which type of programming does python support ?\n",
    "ans) python is an interpreted programming language, supporting object-oriented , structured , and functional programming.\n",
    "3) Is python case sensitive when dealing with identifiers ?\n",
    "ans) Yes, python is a case-sensitive programming language.this means that it considers uppercase and lowercase letters differently.\n",
    "4) what is the correct extension of the python file ?\n",
    "ans) pyc is the correct extension of the python file.\n",
    "5) Is python code complied or interpreted ?\n",
    "ans) Python is an interpreted language, which means the source code of a Python program is converted into bytecode that is then executed by the Python virtual machine. Python is different from major compiled languages, such as C and C + +, as Python code is not required to be built and linked like code for these languages.\n",
    "6) Name a few blocks of code used to define in python language ?\n",
    "ans) The following are blocks: a module, a function body, and a class definition.\n",
    "7) State a character used to give single-line comments in python ?\n",
    "ans) We can write a single-line comment by adding a single # character before any statement or line of code.\n",
    "8) Mention functions which can help us to find the version of python that we are currently working on ?\n",
    "ans) The function sys. version can help us to find the version of python that we are currently working on.\n",
    "9) Python supports the creation of anonymous function at runtime, using a construct called _ _ _ _ _ _ _ _ \n",
    "ans)  Python supports the creation of anonymous function at runtime, using a construct called Lambda\n",
    "10) what does pip stands for python ?\n",
    "ans) the pip stands for Preferred installer program\n",
    "11) mention a few built-in functions in python?\n",
    "ans)Function\tDescription\n",
    "compile()\tReturns the specified source as an object, ready to be executed\n",
    "complex()\tReturns a complex number\n",
    "delattr()\tDeletes the specified attribute (property or method) from the specified object\n",
    "dict()\tReturns a dictionary (Array)\n",
    "12)what is the maximum possible length of an identifier in python ?\n",
    "ans)An identifier can have a maximum length of 79 characters in Python.\n",
    "13)what are the benefits of using python ?\n",
    "ans) python programming language is a general-purpose,interpretend , and high-level language thet mainly offers code readability\n",
    "14)how is memory managed in python ?\n",
    "ans)Python uses the dynamic memory allocation which is managed by the Heap data structure.\n",
    "15)how to install python on windows and set path variables ?\n",
    "ans)1)Right click on My Computer and click on properties.\n",
    "2)Click on Advanced System settings.\n",
    "3)click on environment variable tab.\n",
    "4)Click on new tab of user variables.\n",
    "5)Write path in variable name.\n",
    "6)Copy the path of Python folder.\n",
    "7)Paste path of Python in variable value.\n",
    "8)Click on Ok button:\n",
    "16)is identation required in python ?\n",
    "ans)Indentation is important to Python, because it's how you determine scope. Scope is how Python knows what code belongs to what part of the program."
   ]
  },
  {
   "cell_type": "code",
   "execution_count": null,
   "id": "8b6d66f0-c950-43c9-aa23-5ca4e7bfc0db",
   "metadata": {},
   "outputs": [],
   "source": []
  }
 ],
 "metadata": {
  "kernelspec": {
   "display_name": "Python 3 (ipykernel)",
   "language": "python",
   "name": "python3"
  },
  "language_info": {
   "codemirror_mode": {
    "name": "ipython",
    "version": 3
   },
   "file_extension": ".py",
   "mimetype": "text/x-python",
   "name": "python",
   "nbconvert_exporter": "python",
   "pygments_lexer": "ipython3",
   "version": "3.10.8"
  }
 },
 "nbformat": 4,
 "nbformat_minor": 5
}
